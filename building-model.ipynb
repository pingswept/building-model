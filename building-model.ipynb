{
 "cells": [
  {
   "cell_type": "code",
   "execution_count": 16,
   "metadata": {},
   "outputs": [],
   "source": [
    "import quantities as pq"
   ]
  },
  {
   "cell_type": "code",
   "execution_count": 17,
   "metadata": {
    "collapsed": true
   },
   "outputs": [],
   "source": [
    "inside = 293.0 * pq.K\n",
    "outside = 263.0 * pq.K\n",
    "delta = inside - outside"
   ]
  },
  {
   "cell_type": "code",
   "execution_count": 18,
   "metadata": {},
   "outputs": [
    {
     "name": "stdout",
     "output_type": "stream",
     "text": [
      "326.08967040000005 m**2\n",
      "305.6510016000001 m**2\n",
      "0.026 W/(m*K)\n",
      "0.15 W/(m*K)\n"
     ]
    }
   ],
   "source": [
    "width = 47 * pq.ft\n",
    "length = 70 * pq.ft\n",
    "height = 15 * pq.ft\n",
    "\n",
    "width.units = pq.m\n",
    "length.units = pq.m\n",
    "height.units = pq.m\n",
    "\n",
    "perimeter = 2 * (width + length)\n",
    "wall_area = perimeter * height\n",
    "roof_area = width * length\n",
    "\n",
    "print(wall_area)\n",
    "print(roof_area)\n",
    "\n",
    "roof_thickness = 1.5 * pq.inch\n",
    "wall_thickness = 4.0 * pq.inch\n",
    "roof_thickness.units = pq.m\n",
    "wall_thickness.units = pq.m\n",
    "\n",
    "k_polyiso_foam = 0.026 * pq.W / (pq.m * pq.K) # polyisocyuranate foam\n",
    "k_fiberglass = 0.038 * pq.W / (pq.m * pq.K) # fiberglass\n",
    "k_wood = 0.15 * pq.W / (pq.m * pq.K) # wood\n",
    "k_wall = k_polyiso_foam\n",
    "k_roof = k_wood\n",
    "print(k_wall)\n",
    "print(k_wood)"
   ]
  },
  {
   "cell_type": "code",
   "execution_count": 19,
   "metadata": {},
   "outputs": [
    {
     "name": "stdout",
     "output_type": "stream",
     "text": [
      "2503.44432 W\n",
      "36100.51200000001 W\n",
      "38603.95632000001 W\n",
      "131722.16656292457 BTU/h\n"
     ]
    }
   ],
   "source": [
    "wall_loss = k_wall * wall_area * delta / wall_thickness\n",
    "roof_loss = k_roof * roof_area * delta / roof_thickness\n",
    "total_loss = wall_loss + roof_loss\n",
    "print(wall_loss)\n",
    "print(roof_loss)\n",
    "print(total_loss)\n",
    "total_loss.units = pq.BTU / pq.h\n",
    "print(total_loss)"
   ]
  },
  {
   "cell_type": "markdown",
   "metadata": {},
   "source": [
    "### Heat loss to slab ###\n",
    "Using Macey's model from Morris Grenfell Davies' book, Building Heat Transfer"
   ]
  },
  {
   "cell_type": "code",
   "execution_count": 20,
   "metadata": {},
   "outputs": [
    {
     "name": "stdout",
     "output_type": "stream",
     "text": [
      "0.652524310147743\n",
      "Power lost to slab: 6420.154061328137 [W]\n",
      "Cost of replacing that heat: $1.2840308122656274/hour\n"
     ]
    }
   ],
   "source": [
    "from math import pi, atanh\n",
    "lam = 2.8 # soil conductivity, W/(m*K)\n",
    "B = 13.4 # breadth in m (44 ft)\n",
    "W = 0.2 # wall thickness in m\n",
    "L = 22.25 # length in m (73 ft)\n",
    "U = ((4*lam)/(pi*B)) * atanh(B/(B+W)) # Macey's model, without length correction\n",
    "print(U)\n",
    "Tin = 33.0 # floor temp in deg. C\n",
    "Tout = 0.0 # winter!\n",
    "Q = (Tin - Tout)*U*B*L\n",
    "print(\"Power lost to slab: {0} [W]\".format(Q))\n",
    "price_per_kWh = 0.20 # $/kWh\n",
    "hourly_cost = Q*price_per_kWh/1000.0\n",
    "print(\"Cost of replacing that heat: ${0}/hour\".format(hourly_cost))"
   ]
  },
  {
   "cell_type": "code",
   "execution_count": null,
   "metadata": {
    "collapsed": true
   },
   "outputs": [],
   "source": []
  }
 ],
 "metadata": {
  "kernelspec": {
   "display_name": "Python 3",
   "language": "python",
   "name": "python3"
  },
  "language_info": {
   "codemirror_mode": {
    "name": "ipython",
    "version": 3
   },
   "file_extension": ".py",
   "mimetype": "text/x-python",
   "name": "python",
   "nbconvert_exporter": "python",
   "pygments_lexer": "ipython3",
   "version": "3.4.3"
  }
 },
 "nbformat": 4,
 "nbformat_minor": 1
}
