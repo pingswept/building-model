{
 "metadata": {
  "name": "",
  "signature": "sha256:e8025467795ee87d6f473e02e126658271a0509fc76235c0e01d7fee6c44745d"
 },
 "nbformat": 3,
 "nbformat_minor": 0,
 "worksheets": [
  {
   "cells": [
    {
     "cell_type": "code",
     "collapsed": false,
     "input": [
      "import quantities as pq"
     ],
     "language": "python",
     "metadata": {},
     "outputs": [],
     "prompt_number": 29
    },
    {
     "cell_type": "code",
     "collapsed": false,
     "input": [
      "inside = 293.0 * pq.K\n",
      "outside = 263.0 * pq.K\n",
      "delta = inside - outside"
     ],
     "language": "python",
     "metadata": {},
     "outputs": [],
     "prompt_number": 30
    },
    {
     "cell_type": "code",
     "collapsed": false,
     "input": [
      "width = 47 * pq.ft\n",
      "length = 70 * pq.ft\n",
      "height = 15 * pq.ft\n",
      "\n",
      "width.units = pq.m\n",
      "length.units = pq.m\n",
      "height.units = pq.m\n",
      "\n",
      "perimeter = 2 * (width + length)\n",
      "wall_area = perimeter * height\n",
      "roof_area = width * length\n",
      "\n",
      "print(wall_area)\n",
      "print(roof_area)\n",
      "\n",
      "roof_thickness = 10.0 * pq.inch\n",
      "wall_thickness = 4.0 * pq.inch\n",
      "roof_thickness.units = pq.m\n",
      "wall_thickness.units = pq.m\n",
      "\n",
      "k_wall = 0.026 * pq.W / (pq.m * pq.K) # polyisocyuranate foam\n",
      "k_roof = 0.038 * pq.W / (pq.m * pq.K) # fiberglass\n",
      "print(k_wall)"
     ],
     "language": "python",
     "metadata": {},
     "outputs": [
      {
       "output_type": "stream",
       "stream": "stdout",
       "text": [
        "326.08967040000005 m**2\n",
        "305.6510016000001 m**2\n",
        "0.026 W/(m*K)\n"
       ]
      }
     ],
     "prompt_number": 38
    },
    {
     "cell_type": "code",
     "collapsed": false,
     "input": [
      "wall_loss = k_wall * wall_area * delta / wall_thickness\n",
      "roof_loss = k_roof * roof_area * delta / roof_thickness\n",
      "total_loss = wall_loss + roof_loss\n",
      "print(wall_loss)\n",
      "print(roof_loss)\n",
      "print(total_loss)\n",
      "total_loss.units = pq.BTU / pq.h\n",
      "print(total_loss)"
     ],
     "language": "python",
     "metadata": {},
     "outputs": [
      {
       "output_type": "stream",
       "stream": "stdout",
       "text": [
        "2503.44432 W\n",
        "1371.8194560000004 W\n",
        "3875.2637760000007 W\n",
        "13222.948869442196 BTU/h\n"
       ]
      }
     ],
     "prompt_number": 44
    },
    {
     "cell_type": "code",
     "collapsed": false,
     "input": [],
     "language": "python",
     "metadata": {},
     "outputs": [],
     "prompt_number": 32
    }
   ],
   "metadata": {}
  }
 ]
}